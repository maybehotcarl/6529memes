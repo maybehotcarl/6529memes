{
 "cells": [
  {
   "cell_type": "code",
   "execution_count": 1,
   "id": "89ded8d2",
   "metadata": {},
   "outputs": [],
   "source": [
    "import pandas as pd"
   ]
  },
  {
   "cell_type": "code",
   "execution_count": 2,
   "id": "2ac4fbab",
   "metadata": {},
   "outputs": [],
   "source": [
    "sixty_nine_df = pd.read_csv('PATH_TO_YOUR_ETHERSCAN_DOWNLOAD_CSV')"
   ]
  },
  {
   "cell_type": "code",
   "execution_count": 17,
   "id": "ecc1ab43",
   "metadata": {},
   "outputs": [],
   "source": [
    "#visualize the data\n",
    "sixty_nine_df.head()"
   ]
  },
  {
   "cell_type": "code",
   "execution_count": 18,
   "id": "fe7a7aef",
   "metadata": {},
   "outputs": [],
   "source": [
    "#find excact memes name\n",
    "sixty_nine_df[\"TokenName\"].unique()"
   ]
  },
  {
   "cell_type": "code",
   "execution_count": 5,
   "id": "3fe270b4",
   "metadata": {},
   "outputs": [],
   "source": [
    "#find all memes related tx\n",
    "forty_two_df = sixty_nine_df[sixty_nine_df['TokenName']== 'The Memes by 6529']"
   ]
  },
  {
   "cell_type": "code",
   "execution_count": 19,
   "id": "3a708900",
   "metadata": {},
   "outputs": [],
   "source": [
    "#revisualize the data to verify\n",
    "forty_two_df.head()"
   ]
  },
  {
   "cell_type": "code",
   "execution_count": 20,
   "id": "0c590d12",
   "metadata": {},
   "outputs": [],
   "source": [
    "#find your current storage address\n",
    "forty_two_df['To'].unique()"
   ]
  },
  {
   "cell_type": "code",
   "execution_count": 8,
   "id": "b697f363",
   "metadata": {},
   "outputs": [
    {
     "data": {
      "text/plain": [
       "array([1, 2, 3])"
      ]
     },
     "execution_count": 8,
     "metadata": {},
     "output_type": "execute_result"
    }
   ],
   "source": [
    "#how many have you sent at once?\n",
    "forty_two_df['Quantity'].unique()"
   ]
  },
  {
   "cell_type": "code",
   "execution_count": 21,
   "id": "bbb655b9",
   "metadata": {},
   "outputs": [],
   "source": [
    "#DO NOT USE MY ADDRESS!!! REPLACE WITH YOURS\n",
    "MY_ADDRESS = '0xYOUR ETH ADDRESS WHRE YOUR MEMES ARE NOW'\n",
    "\n",
    "forty_two_df['transaction_quanity'] = 0\n",
    "\n",
    "forty_two_df.loc[forty_two_df['To'] == MY_ADDRESS, 'transaction_quantity'] = forty_two_df['Quantity']\n",
    "\n",
    "forty_two_df.loc[forty_two_df['From'] == MY_ADDRESS, 'transaction_quantity'] = -forty_two_df['Quantity']\n",
    "\n",
    "token_balance = forty_two_df.groupby('Token ID')['transaction_quantity'].sum()\n",
    "\n",
    "balance_dict = token_balance.to_dict()\n",
    "\n",
    "print(balance_dict)"
   ]
  },
  {
   "cell_type": "code",
   "execution_count": 13,
   "id": "b690e43e",
   "metadata": {},
   "outputs": [],
   "source": [
    "def partition_dict(d):\n",
    "    # Lists to store resulting partitions\n",
    "    all_keys_lists = []\n",
    "    all_values_lists = []\n",
    "    \n",
    "    # Temporary lists to store current partition\n",
    "    temp_keys = []\n",
    "    temp_values = []\n",
    "    running_sum = 0\n",
    "    \n",
    "    for key, value in d.items():\n",
    "        key = int(key)\n",
    "        value = int(value)\n",
    "        if value > 0:  # only consider non-zero values\n",
    "            temp_keys.append(key)\n",
    "            temp_values.append(value)\n",
    "            running_sum += value\n",
    "            \n",
    "            if running_sum >= 50:\n",
    "                all_keys_lists.append(temp_keys)\n",
    "                all_values_lists.append(temp_values)\n",
    "                \n",
    "                # Reset temporary lists and running sum\n",
    "                temp_keys = []\n",
    "                temp_values = []\n",
    "                running_sum = 0\n",
    "                \n",
    "    # If there are leftover keys/values, add them to the resulting lists\n",
    "    if temp_keys:\n",
    "        all_keys_lists.append(temp_keys)\n",
    "        all_values_lists.append(temp_values)\n",
    "\n",
    "    return all_keys_lists, all_values_lists"
   ]
  },
  {
   "cell_type": "code",
   "execution_count": 15,
   "id": "a6602c51",
   "metadata": {},
   "outputs": [],
   "source": [
    "#run list creating function\n",
    "keys_lists, values_lists = partition_dict(balance_dict)"
   ]
  },
  {
   "cell_type": "code",
   "execution_count": 16,
   "id": "cea2b419",
   "metadata": {},
   "outputs": [
    {
     "name": "stdout",
     "output_type": "stream",
     "text": [
      "[1,10,100,101,102,103,104,105,106,107,108,109,11,110,111,112,113,114,115,116,117,118,12,14,15,16,17,18,19,2,20,21,22,23,24,25,26,27] [1,1,2,2,1,1,1,1,2,2,1,1,1,2,1,1,1,2,1,1,2,1,1,1,1,1,1,1,1,1,1,1,1,1,1,2,3,3]\n",
      "[28,29,3,30,31,32,33,34,35,36,37,38,39,4,40,41,42,43,44,45,46,48,49,5,50,51,52,53,54] [1,2,1,2,1,2,2,1,1,2,1,1,3,1,3,3,2,2,1,1,2,2,2,1,2,2,2,2,2]\n",
      "[55,56,57,58,59,6,60,61,62,63,64,65,66,67,68,69,7,70,71,72,73,74,75,76,77,78,79] [2,2,2,2,2,1,1,2,2,2,2,2,2,2,2,2,1,2,2,2,2,2,2,2,2,2,2]\n",
      "[8,80,81,82] [1,2,2,2]\n"
     ]
    }
   ],
   "source": [
    "# Printing without spaces between commas\n",
    "for kl, vl in zip(keys_lists, values_lists):\n",
    "    print(\"[{}]\".format(','.join(map(str, kl))), \"[{}]\".format(','.join(map(str, vl))))"
   ]
  },
  {
   "cell_type": "code",
   "execution_count": null,
   "id": "2878482f",
   "metadata": {},
   "outputs": [],
   "source": []
  }
 ],
 "metadata": {
  "kernelspec": {
   "display_name": "Python 3 (ipykernel)",
   "language": "python",
   "name": "python3"
  },
  "language_info": {
   "codemirror_mode": {
    "name": "ipython",
    "version": 3
   },
   "file_extension": ".py",
   "mimetype": "text/x-python",
   "name": "python",
   "nbconvert_exporter": "python",
   "pygments_lexer": "ipython3",
   "version": "3.11.4"
  }
 },
 "nbformat": 4,
 "nbformat_minor": 5
}
